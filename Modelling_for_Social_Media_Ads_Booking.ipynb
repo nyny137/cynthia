{
  "nbformat": 4,
  "nbformat_minor": 0,
  "metadata": {
    "colab": {
      "provenance": []
    },
    "kernelspec": {
      "name": "python3",
      "display_name": "Python 3"
    },
    "language_info": {
      "name": "python"
    }
  },
  "cells": [
    {
      "cell_type": "code",
      "execution_count": null,
      "metadata": {
        "id": "bpp82GO_gcpa",
        "outputId": "d6afbe65-2da6-45d4-f6c3-86dd96a7161b",
        "colab": {
          "base_uri": "https://localhost:8080/"
        }
      },
      "outputs": [
        {
          "output_type": "stream",
          "name": "stdout",
          "text": [
            "Requirement already satisfied: pulp in /usr/local/lib/python3.10/dist-packages (2.7.0)\n"
          ]
        }
      ],
      "source": [
        "# Intall and Import Package/Library\n",
        "!pip install pulp\n",
        "import pulp\n",
        "!apt-get install -y -qq glpk-utils\n",
        "from pulp import GLPK\n",
        "from pulp import LpVariable, LpProblem, LpMaximize, LpMinimize, lpSum"
      ]
    },
    {
      "cell_type": "code",
      "source": [
        "prob = pulp.LpProblem(\"Maximize_Impressions\", pulp.LpMinimize)"
      ],
      "metadata": {
        "id": "nzjvSJZWYCpY"
      },
      "execution_count": null,
      "outputs": []
    },
    {
      "cell_type": "code",
      "source": [
        "from pulp import LpMaximize, LpProblem, LpVariable, LpStatus"
      ],
      "metadata": {
        "id": "PitkY-NtZPw6"
      },
      "execution_count": null,
      "outputs": []
    },
    {
      "cell_type": "code",
      "source": [
        "from pulp import LpMaximize, LpProblem, LpVariable, LpStatus\n",
        "\n",
        "# Define platform characteristics\n",
        "platforms = ['Youtube', 'TikTok', 'Instagram']\n",
        "active_users = {'Micro': 50005, 'Mid': 300000, 'Macro': 750000}\n",
        "kol_type = ['Micro', 'Mid', 'Macro']\n",
        "impression_rate = {\n",
        "    ('Youtube', 'Micro'): 0.019,\n",
        "    ('Youtube', 'Mid'): 0.0347,\n",
        "    ('Youtube', 'Macro'): 0.034,\n",
        "    ('TikTok', 'Micro'): 0.124,\n",
        "    ('TikTok', 'Mid'): 0.109,\n",
        "    ('TikTok', 'Macro'): 0.108,\n",
        "    ('Instagram', 'Micro'): 0.0106,\n",
        "    ('Instagram', 'Mid'): 0.0091,\n",
        "    ('Instagram', 'Macro'): 0.0086}\n",
        "cost = {\n",
        "    ('Youtube', 'Micro'): 600,\n",
        "    ('Youtube', 'Mid'): 5500,\n",
        "    ('Youtube', 'Macro'): 15000,\n",
        "    ('TikTok', 'Micro'): 75,\n",
        "    ('TikTok', 'Mid'): 688,\n",
        "    ('TikTok', 'Macro'): 1875,\n",
        "    ('Instagram', 'Micro'): 219,\n",
        "    ('Instagram', 'Mid'): 775,\n",
        "    ('Instagram', 'Macro'): 3138}\n",
        "\n",
        "# demographics across platforms\n",
        "demographics = {\n",
        "     'Youtube': {'Income': 0.34, 'Age18-24': 0.155, 'CollegeEd': 0.37},\n",
        "    'TikTok': {'Income': 0.31, 'Age18-24': 0.362, 'CollegeEd': 0.36},\n",
        "    'Instagram': {'Income': 0.32, 'Age18-24': 0.308, 'CollegeEd': 0.44},\n",
        "}\n"
      ],
      "metadata": {
        "id": "p1i-EuAighki"
      },
      "execution_count": null,
      "outputs": []
    },
    {
      "cell_type": "code",
      "source": [
        "#the percentage of target users on per platform\n",
        "demographic_factor_youtube = 0.33 * (demographics['Youtube']['Income'] + demographics['Youtube']['Age18-24'] + demographics['Youtube']['CollegeEd'])\n",
        "demographic_factor_tiktok = 0.33 * (demographics['TikTok']['Income'] + demographics['TikTok']['Age18-24'] + demographics['TikTok']['CollegeEd'])\n",
        "demographic_factor_instagram = 0.33 * (demographics['Instagram']['Income'] + demographics['Instagram']['Age18-24'] + demographics['Instagram']['CollegeEd'])\n",
        "\n",
        "#the reach on per platform\n",
        "# Youtube\n",
        "k11 = demographic_factor_youtube * active_users['Micro'] * impression_rate[('Youtube', 'Micro')]\n",
        "k21 = demographic_factor_youtube * active_users['Mid'] * impression_rate[('Youtube', 'Mid')]\n",
        "k31 = demographic_factor_youtube * active_users['Macro'] * impression_rate[('Youtube', 'Macro')]\n",
        "\n",
        "# TikTok\n",
        "k12 = demographic_factor_tiktok * active_users['Micro'] * impression_rate[('TikTok', 'Micro')]\n",
        "k22 = demographic_factor_tiktok * active_users['Mid'] * impression_rate[('TikTok', 'Mid')]\n",
        "k32 = demographic_factor_tiktok * active_users['Macro'] * impression_rate[('TikTok', 'Macro')]\n",
        "\n",
        "# Instagram\n",
        "k13 = demographic_factor_instagram * active_users['Micro'] * impression_rate[('Instagram', 'Micro')]\n",
        "k23 = demographic_factor_instagram * active_users['Mid'] * impression_rate[('Instagram', 'Mid')]\n",
        "k33 = demographic_factor_instagram * active_users['Macro'] * impression_rate[('Instagram', 'Macro')]\n"
      ],
      "metadata": {
        "id": "RYEQEzHy81aM"
      },
      "execution_count": null,
      "outputs": []
    },
    {
      "cell_type": "code",
      "source": [
        "(k11,k21,k31,k12,k22,k32,k13,k23,k33)"
      ],
      "metadata": {
        "colab": {
          "base_uri": "https://localhost:8080/"
        },
        "id": "TIlVszWrJ93r",
        "outputId": "896b8f48-e046-4798-9c90-3180449d8a41"
      },
      "execution_count": null,
      "outputs": [
        {
          "output_type": "execute_result",
          "data": {
            "text/plain": [
              "(271.20461775000007,\n",
              " 2971.5345000000007,\n",
              " 7278.975000000001,\n",
              " 2111.6831472000003,\n",
              " 11136.312000000002,\n",
              " 27585.360000000004,\n",
              " 186.81187932,\n",
              " 962.1612000000002,\n",
              " 2273.238)"
            ]
          },
          "metadata": {},
          "execution_count": 17
        }
      ]
    },
    {
      "cell_type": "code",
      "source": [
        "k_value = {\n",
        "    'Youtube,Micro': k11,\n",
        "    'Youtube,Mid': k21,\n",
        "    'Youtube,Macro': k31,\n",
        "    'TikTok,Micro': k12,\n",
        "    'TikTok,Mid': k22,\n",
        "    'TikTok,Macro': k32,\n",
        "    'Instagram,Micro': k13,\n",
        "    'Instagram,Mid': k23,\n",
        "    'Instagram,Macro': k33\n",
        "}"
      ],
      "metadata": {
        "id": "0fvdQAgW-iqE"
      },
      "execution_count": null,
      "outputs": []
    },
    {
      "cell_type": "code",
      "source": [
        "#Decision variables\n",
        "ads = pulp.LpVariable.dicts(\"Ads\", [(platform, kol_type) for platform in platforms for kol_type in ['Micro', 'Mid', 'Macro']], lowBound=0, upBound=25, cat='Integer')\n",
        "\n",
        "\n",
        "# Deviation variables for each platform-KOL combination\n",
        "d1_pos = pulp.LpVariable(\"d1_pos\", lowBound=0, upBound=None, cat='Continuous')\n",
        "d1_neg = pulp.LpVariable(\"d1_neg\", lowBound=0, upBound=None, cat='Continuous')\n",
        "d2_pos = pulp.LpVariable(\"d2_pos\", lowBound=0, upBound=None, cat='Continuous')\n",
        "d2_neg = pulp.LpVariable(\"d2_neg\", lowBound=0, upBound=None, cat='Continuous')\n",
        "d3_pos = pulp.LpVariable(\"d3_pos\", lowBound=0, upBound=None, cat='Continuous')\n",
        "d3_neg = pulp.LpVariable(\"d3_neg\", lowBound=0, upBound=None, cat='Continuous')\n",
        "d4_pos = pulp.LpVariable(\"d4_pos\", lowBound=0, upBound=None, cat='Continuous')\n",
        "d4_neg = pulp.LpVariable(\"d4_neg\", lowBound=0, upBound=None, cat='Continuous')\n"
      ],
      "metadata": {
        "id": "STLxJWSXWdZX"
      },
      "execution_count": null,
      "outputs": []
    },
    {
      "cell_type": "code",
      "source": [
        "# Add Objective Function to the Environment\n",
        "prob += d4_pos"
      ],
      "metadata": {
        "id": "zci2LumDWg-b"
      },
      "execution_count": null,
      "outputs": []
    },
    {
      "cell_type": "code",
      "source": [
        "# Add Soft Constraints Function to the Environment\n",
        "# Goal 1 --- Impression\n",
        "prob += sum([k_value[platform + ',' + kol] * ads[(platform, kol)] for platform in platforms for kol in kol_type]) - d1_pos + d1_neg == 220000\n",
        "\n",
        "\n",
        "# Goal 2 --- The cost for Instagram\n",
        "prob += sum(ads['Instagram', kol_type] * cost[('Instagram', kol_type)] for kol_type in ['Micro', 'Mid', 'Macro']) - d2_pos + d2_neg == 33000 #30%\n",
        "\n",
        "# Goal 3 --- The cost for TikTok\n",
        "prob += sum(ads['TikTok', kol_type] * cost[('TikTok', kol_type)]  for kol_type in ['Micro', 'Mid', 'Macro']) - d3_pos + d3_neg == 55000   #50%\n",
        "\n",
        "# Goal 4 --- The cost for Youtube\n",
        "prob += sum(ads['Youtube', kol_type] * cost[('Youtube', kol_type)]  for kol_type in ['Micro', 'Mid', 'Macro']) - d4_pos + d4_neg == 22000  #20%\n",
        "\n",
        "prob += d1_neg == 0\n",
        "prob += d2_pos == 0\n",
        "prob += d3_pos == 0\n",
        "\n"
      ],
      "metadata": {
        "id": "6oCWvRceWxPj"
      },
      "execution_count": null,
      "outputs": []
    },
    {
      "cell_type": "code",
      "source": [
        "# Solve the Problem\n",
        "prob.writeLP(\"Maximize_Impressions.lp\")\n",
        "prob.solve(GLPK(msg=True, options=['--ranges', 'sensitivity.txt']))\n",
        "\n",
        "# The Status of the Solution\n",
        "print(\"Model Status:{}\".format(pulp.LpStatus[prob.status]))\n",
        "\n",
        "# To Display Optimal Decision Variables & Reduced Cost per Variable\n",
        "for v in prob.variables():\n",
        "\t  print(v.name, \"=\", v.varValue)\n",
        "\n",
        "# To Display Optimal Value of Objective Function\n",
        "print(\"Objective=\", pulp.value(prob.objective))"
      ],
      "metadata": {
        "colab": {
          "base_uri": "https://localhost:8080/"
        },
        "id": "MhKc0X3TWmg0",
        "outputId": "94af2411-16af-47dd-cf7d-9ed04ede05f7"
      },
      "execution_count": null,
      "outputs": [
        {
          "output_type": "stream",
          "name": "stdout",
          "text": [
            "Model Status:Optimal\n",
            "Ads_('Instagram',_'Macro') = 0\n",
            "Ads_('Instagram',_'Micro') = 0\n",
            "Ads_('Instagram',_'Mid') = 25\n",
            "Ads_('TikTok',_'Macro') = 5\n",
            "Ads_('TikTok',_'Micro') = 24\n",
            "Ads_('TikTok',_'Mid') = 0\n",
            "Ads_('Youtube',_'Macro') = 1\n",
            "Ads_('Youtube',_'Micro') = 1\n",
            "Ads_('Youtube',_'Mid') = 0\n",
            "d1_neg = 0.0\n",
            "d1_pos = 211.405\n",
            "d2_neg = 13625.0\n",
            "d2_pos = 0.0\n",
            "d3_neg = 43825.0\n",
            "d3_pos = 0.0\n",
            "d4_neg = 6400.0\n",
            "d4_pos = 0.0\n",
            "Objective= 0.0\n"
          ]
        }
      ]
    }
  ]
}