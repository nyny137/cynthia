{
  "nbformat": 4,
  "nbformat_minor": 0,
  "metadata": {
    "colab": {
      "provenance": [],
      "authorship_tag": "ABX9TyMKo0vERcj6/lkWhxBLljv6",
      "include_colab_link": true
    },
    "kernelspec": {
      "name": "python3",
      "display_name": "Python 3"
    },
    "language_info": {
      "name": "python"
    }
  },
  "cells": [
    {
      "cell_type": "markdown",
      "metadata": {
        "id": "view-in-github",
        "colab_type": "text"
      },
      "source": [
        "<a href=\"https://colab.research.google.com/github/nyny137/cynthia/blob/main/Simple_Model_of_Prediction.ipynb\" target=\"_parent\"><img src=\"https://colab.research.google.com/assets/colab-badge.svg\" alt=\"Open In Colab\"/></a>"
      ]
    },
    {
      "cell_type": "code",
      "execution_count": 3,
      "metadata": {
        "id": "pxcfghvsFOBk",
        "colab": {
          "base_uri": "https://localhost:8080/"
        },
        "outputId": "7c391095-7c29-4a28-92de-e525fe8b2a60"
      },
      "outputs": [
        {
          "output_type": "stream",
          "name": "stdout",
          "text": [
            "Mounted at /content/drive\n"
          ]
        }
      ],
      "source": [
        "import pandas as pd\n",
        "from google.colab import drive\n",
        "drive.mount('/content/drive')"
      ]
    },
    {
      "cell_type": "code",
      "source": [
        "path = '/content/drive/MyDrive/Learning for better life/Economic_S4.csv'\n",
        "df = pd.read_csv(path)"
      ],
      "metadata": {
        "id": "RuHteZGBGJb3"
      },
      "execution_count": 4,
      "outputs": []
    },
    {
      "cell_type": "code",
      "source": [
        "df.describe()"
      ],
      "metadata": {
        "colab": {
          "base_uri": "https://localhost:8080/",
          "height": 300
        },
        "id": "72UBsxzJHfPZ",
        "outputId": "2078e005-2f57-466e-bffd-d0c45a4c7bac"
      },
      "execution_count": 5,
      "outputs": [
        {
          "output_type": "execute_result",
          "data": {
            "text/plain": [
              "              Year  Inflation  Lending_Interest_Rate  Unemployment        GDP  \\\n",
              "count    18.000000  14.000000              14.000000     14.000000  18.000000   \n",
              "mean   2014.500000   0.076006               0.105032      0.037729   0.056717   \n",
              "std       5.338539   0.062763               0.033178      0.005974   0.015489   \n",
              "min    2006.000000   0.006312               0.069694      0.030900   0.026300   \n",
              "25%    2010.250000   0.035251               0.074558      0.032525   0.047750   \n",
              "50%    2014.500000   0.066553               0.102217      0.036100   0.060950   \n",
              "75%    2018.750000   0.089071               0.126468      0.043125   0.067775   \n",
              "max    2023.000000   0.231154               0.169538      0.046500   0.081300   \n",
              "\n",
              "             NPL  \n",
              "count  14.000000  \n",
              "mean    0.029686  \n",
              "std     0.018673  \n",
              "min     0.005000  \n",
              "25%     0.019150  \n",
              "50%     0.023900  \n",
              "75%     0.036875  \n",
              "max     0.075000  "
            ],
            "text/html": [
              "\n",
              "  <div id=\"df-7924fd7d-8c1a-4dce-ba9f-5ccd9b39f425\" class=\"colab-df-container\">\n",
              "    <div>\n",
              "<style scoped>\n",
              "    .dataframe tbody tr th:only-of-type {\n",
              "        vertical-align: middle;\n",
              "    }\n",
              "\n",
              "    .dataframe tbody tr th {\n",
              "        vertical-align: top;\n",
              "    }\n",
              "\n",
              "    .dataframe thead th {\n",
              "        text-align: right;\n",
              "    }\n",
              "</style>\n",
              "<table border=\"1\" class=\"dataframe\">\n",
              "  <thead>\n",
              "    <tr style=\"text-align: right;\">\n",
              "      <th></th>\n",
              "      <th>Year</th>\n",
              "      <th>Inflation</th>\n",
              "      <th>Lending_Interest_Rate</th>\n",
              "      <th>Unemployment</th>\n",
              "      <th>GDP</th>\n",
              "      <th>NPL</th>\n",
              "    </tr>\n",
              "  </thead>\n",
              "  <tbody>\n",
              "    <tr>\n",
              "      <th>count</th>\n",
              "      <td>18.000000</td>\n",
              "      <td>14.000000</td>\n",
              "      <td>14.000000</td>\n",
              "      <td>14.000000</td>\n",
              "      <td>18.000000</td>\n",
              "      <td>14.000000</td>\n",
              "    </tr>\n",
              "    <tr>\n",
              "      <th>mean</th>\n",
              "      <td>2014.500000</td>\n",
              "      <td>0.076006</td>\n",
              "      <td>0.105032</td>\n",
              "      <td>0.037729</td>\n",
              "      <td>0.056717</td>\n",
              "      <td>0.029686</td>\n",
              "    </tr>\n",
              "    <tr>\n",
              "      <th>std</th>\n",
              "      <td>5.338539</td>\n",
              "      <td>0.062763</td>\n",
              "      <td>0.033178</td>\n",
              "      <td>0.005974</td>\n",
              "      <td>0.015489</td>\n",
              "      <td>0.018673</td>\n",
              "    </tr>\n",
              "    <tr>\n",
              "      <th>min</th>\n",
              "      <td>2006.000000</td>\n",
              "      <td>0.006312</td>\n",
              "      <td>0.069694</td>\n",
              "      <td>0.030900</td>\n",
              "      <td>0.026300</td>\n",
              "      <td>0.005000</td>\n",
              "    </tr>\n",
              "    <tr>\n",
              "      <th>25%</th>\n",
              "      <td>2010.250000</td>\n",
              "      <td>0.035251</td>\n",
              "      <td>0.074558</td>\n",
              "      <td>0.032525</td>\n",
              "      <td>0.047750</td>\n",
              "      <td>0.019150</td>\n",
              "    </tr>\n",
              "    <tr>\n",
              "      <th>50%</th>\n",
              "      <td>2014.500000</td>\n",
              "      <td>0.066553</td>\n",
              "      <td>0.102217</td>\n",
              "      <td>0.036100</td>\n",
              "      <td>0.060950</td>\n",
              "      <td>0.023900</td>\n",
              "    </tr>\n",
              "    <tr>\n",
              "      <th>75%</th>\n",
              "      <td>2018.750000</td>\n",
              "      <td>0.089071</td>\n",
              "      <td>0.126468</td>\n",
              "      <td>0.043125</td>\n",
              "      <td>0.067775</td>\n",
              "      <td>0.036875</td>\n",
              "    </tr>\n",
              "    <tr>\n",
              "      <th>max</th>\n",
              "      <td>2023.000000</td>\n",
              "      <td>0.231154</td>\n",
              "      <td>0.169538</td>\n",
              "      <td>0.046500</td>\n",
              "      <td>0.081300</td>\n",
              "      <td>0.075000</td>\n",
              "    </tr>\n",
              "  </tbody>\n",
              "</table>\n",
              "</div>\n",
              "    <div class=\"colab-df-buttons\">\n",
              "\n",
              "  <div class=\"colab-df-container\">\n",
              "    <button class=\"colab-df-convert\" onclick=\"convertToInteractive('df-7924fd7d-8c1a-4dce-ba9f-5ccd9b39f425')\"\n",
              "            title=\"Convert this dataframe to an interactive table.\"\n",
              "            style=\"display:none;\">\n",
              "\n",
              "  <svg xmlns=\"http://www.w3.org/2000/svg\" height=\"24px\" viewBox=\"0 -960 960 960\">\n",
              "    <path d=\"M120-120v-720h720v720H120Zm60-500h600v-160H180v160Zm220 220h160v-160H400v160Zm0 220h160v-160H400v160ZM180-400h160v-160H180v160Zm440 0h160v-160H620v160ZM180-180h160v-160H180v160Zm440 0h160v-160H620v160Z\"/>\n",
              "  </svg>\n",
              "    </button>\n",
              "\n",
              "  <style>\n",
              "    .colab-df-container {\n",
              "      display:flex;\n",
              "      gap: 12px;\n",
              "    }\n",
              "\n",
              "    .colab-df-convert {\n",
              "      background-color: #E8F0FE;\n",
              "      border: none;\n",
              "      border-radius: 50%;\n",
              "      cursor: pointer;\n",
              "      display: none;\n",
              "      fill: #1967D2;\n",
              "      height: 32px;\n",
              "      padding: 0 0 0 0;\n",
              "      width: 32px;\n",
              "    }\n",
              "\n",
              "    .colab-df-convert:hover {\n",
              "      background-color: #E2EBFA;\n",
              "      box-shadow: 0px 1px 2px rgba(60, 64, 67, 0.3), 0px 1px 3px 1px rgba(60, 64, 67, 0.15);\n",
              "      fill: #174EA6;\n",
              "    }\n",
              "\n",
              "    .colab-df-buttons div {\n",
              "      margin-bottom: 4px;\n",
              "    }\n",
              "\n",
              "    [theme=dark] .colab-df-convert {\n",
              "      background-color: #3B4455;\n",
              "      fill: #D2E3FC;\n",
              "    }\n",
              "\n",
              "    [theme=dark] .colab-df-convert:hover {\n",
              "      background-color: #434B5C;\n",
              "      box-shadow: 0px 1px 3px 1px rgba(0, 0, 0, 0.15);\n",
              "      filter: drop-shadow(0px 1px 2px rgba(0, 0, 0, 0.3));\n",
              "      fill: #FFFFFF;\n",
              "    }\n",
              "  </style>\n",
              "\n",
              "    <script>\n",
              "      const buttonEl =\n",
              "        document.querySelector('#df-7924fd7d-8c1a-4dce-ba9f-5ccd9b39f425 button.colab-df-convert');\n",
              "      buttonEl.style.display =\n",
              "        google.colab.kernel.accessAllowed ? 'block' : 'none';\n",
              "\n",
              "      async function convertToInteractive(key) {\n",
              "        const element = document.querySelector('#df-7924fd7d-8c1a-4dce-ba9f-5ccd9b39f425');\n",
              "        const dataTable =\n",
              "          await google.colab.kernel.invokeFunction('convertToInteractive',\n",
              "                                                    [key], {});\n",
              "        if (!dataTable) return;\n",
              "\n",
              "        const docLinkHtml = 'Like what you see? Visit the ' +\n",
              "          '<a target=\"_blank\" href=https://colab.research.google.com/notebooks/data_table.ipynb>data table notebook</a>'\n",
              "          + ' to learn more about interactive tables.';\n",
              "        element.innerHTML = '';\n",
              "        dataTable['output_type'] = 'display_data';\n",
              "        await google.colab.output.renderOutput(dataTable, element);\n",
              "        const docLink = document.createElement('div');\n",
              "        docLink.innerHTML = docLinkHtml;\n",
              "        element.appendChild(docLink);\n",
              "      }\n",
              "    </script>\n",
              "  </div>\n",
              "\n",
              "\n",
              "<div id=\"df-22f4ce4b-6691-4463-a2da-1a7b5cc756a2\">\n",
              "  <button class=\"colab-df-quickchart\" onclick=\"quickchart('df-22f4ce4b-6691-4463-a2da-1a7b5cc756a2')\"\n",
              "            title=\"Suggest charts\"\n",
              "            style=\"display:none;\">\n",
              "\n",
              "<svg xmlns=\"http://www.w3.org/2000/svg\" height=\"24px\"viewBox=\"0 0 24 24\"\n",
              "     width=\"24px\">\n",
              "    <g>\n",
              "        <path d=\"M19 3H5c-1.1 0-2 .9-2 2v14c0 1.1.9 2 2 2h14c1.1 0 2-.9 2-2V5c0-1.1-.9-2-2-2zM9 17H7v-7h2v7zm4 0h-2V7h2v10zm4 0h-2v-4h2v4z\"/>\n",
              "    </g>\n",
              "</svg>\n",
              "  </button>\n",
              "\n",
              "<style>\n",
              "  .colab-df-quickchart {\n",
              "      --bg-color: #E8F0FE;\n",
              "      --fill-color: #1967D2;\n",
              "      --hover-bg-color: #E2EBFA;\n",
              "      --hover-fill-color: #174EA6;\n",
              "      --disabled-fill-color: #AAA;\n",
              "      --disabled-bg-color: #DDD;\n",
              "  }\n",
              "\n",
              "  [theme=dark] .colab-df-quickchart {\n",
              "      --bg-color: #3B4455;\n",
              "      --fill-color: #D2E3FC;\n",
              "      --hover-bg-color: #434B5C;\n",
              "      --hover-fill-color: #FFFFFF;\n",
              "      --disabled-bg-color: #3B4455;\n",
              "      --disabled-fill-color: #666;\n",
              "  }\n",
              "\n",
              "  .colab-df-quickchart {\n",
              "    background-color: var(--bg-color);\n",
              "    border: none;\n",
              "    border-radius: 50%;\n",
              "    cursor: pointer;\n",
              "    display: none;\n",
              "    fill: var(--fill-color);\n",
              "    height: 32px;\n",
              "    padding: 0;\n",
              "    width: 32px;\n",
              "  }\n",
              "\n",
              "  .colab-df-quickchart:hover {\n",
              "    background-color: var(--hover-bg-color);\n",
              "    box-shadow: 0 1px 2px rgba(60, 64, 67, 0.3), 0 1px 3px 1px rgba(60, 64, 67, 0.15);\n",
              "    fill: var(--button-hover-fill-color);\n",
              "  }\n",
              "\n",
              "  .colab-df-quickchart-complete:disabled,\n",
              "  .colab-df-quickchart-complete:disabled:hover {\n",
              "    background-color: var(--disabled-bg-color);\n",
              "    fill: var(--disabled-fill-color);\n",
              "    box-shadow: none;\n",
              "  }\n",
              "\n",
              "  .colab-df-spinner {\n",
              "    border: 2px solid var(--fill-color);\n",
              "    border-color: transparent;\n",
              "    border-bottom-color: var(--fill-color);\n",
              "    animation:\n",
              "      spin 1s steps(1) infinite;\n",
              "  }\n",
              "\n",
              "  @keyframes spin {\n",
              "    0% {\n",
              "      border-color: transparent;\n",
              "      border-bottom-color: var(--fill-color);\n",
              "      border-left-color: var(--fill-color);\n",
              "    }\n",
              "    20% {\n",
              "      border-color: transparent;\n",
              "      border-left-color: var(--fill-color);\n",
              "      border-top-color: var(--fill-color);\n",
              "    }\n",
              "    30% {\n",
              "      border-color: transparent;\n",
              "      border-left-color: var(--fill-color);\n",
              "      border-top-color: var(--fill-color);\n",
              "      border-right-color: var(--fill-color);\n",
              "    }\n",
              "    40% {\n",
              "      border-color: transparent;\n",
              "      border-right-color: var(--fill-color);\n",
              "      border-top-color: var(--fill-color);\n",
              "    }\n",
              "    60% {\n",
              "      border-color: transparent;\n",
              "      border-right-color: var(--fill-color);\n",
              "    }\n",
              "    80% {\n",
              "      border-color: transparent;\n",
              "      border-right-color: var(--fill-color);\n",
              "      border-bottom-color: var(--fill-color);\n",
              "    }\n",
              "    90% {\n",
              "      border-color: transparent;\n",
              "      border-bottom-color: var(--fill-color);\n",
              "    }\n",
              "  }\n",
              "</style>\n",
              "\n",
              "  <script>\n",
              "    async function quickchart(key) {\n",
              "      const quickchartButtonEl =\n",
              "        document.querySelector('#' + key + ' button');\n",
              "      quickchartButtonEl.disabled = true;  // To prevent multiple clicks.\n",
              "      quickchartButtonEl.classList.add('colab-df-spinner');\n",
              "      try {\n",
              "        const charts = await google.colab.kernel.invokeFunction(\n",
              "            'suggestCharts', [key], {});\n",
              "      } catch (error) {\n",
              "        console.error('Error during call to suggestCharts:', error);\n",
              "      }\n",
              "      quickchartButtonEl.classList.remove('colab-df-spinner');\n",
              "      quickchartButtonEl.classList.add('colab-df-quickchart-complete');\n",
              "    }\n",
              "    (() => {\n",
              "      let quickchartButtonEl =\n",
              "        document.querySelector('#df-22f4ce4b-6691-4463-a2da-1a7b5cc756a2 button');\n",
              "      quickchartButtonEl.style.display =\n",
              "        google.colab.kernel.accessAllowed ? 'block' : 'none';\n",
              "    })();\n",
              "  </script>\n",
              "</div>\n",
              "\n",
              "    </div>\n",
              "  </div>\n"
            ],
            "application/vnd.google.colaboratory.intrinsic+json": {
              "type": "dataframe",
              "summary": "{\n  \"name\": \"df\",\n  \"rows\": 8,\n  \"fields\": [\n    {\n      \"column\": \"Year\",\n      \"properties\": {\n        \"dtype\": \"number\",\n        \"std\": 927.1505643999403,\n        \"min\": 5.338539126015656,\n        \"max\": 2023.0,\n        \"num_unique_values\": 7,\n        \"samples\": [\n          18.0,\n          2014.5,\n          2018.75\n        ],\n        \"semantic_type\": \"\",\n        \"description\": \"\"\n      }\n    },\n    {\n      \"column\": \"Inflation\",\n      \"properties\": {\n        \"dtype\": \"number\",\n        \"std\": 4.921551835167965,\n        \"min\": 0.006312,\n        \"max\": 14.0,\n        \"num_unique_values\": 8,\n        \"samples\": [\n          0.07600578571428572,\n          0.0665525,\n          14.0\n        ],\n        \"semantic_type\": \"\",\n        \"description\": \"\"\n      }\n    },\n    {\n      \"column\": \"Lending_Interest_Rate\",\n      \"properties\": {\n        \"dtype\": \"number\",\n        \"std\": 4.91553546836628,\n        \"min\": 0.03317820553838397,\n        \"max\": 14.0,\n        \"num_unique_values\": 8,\n        \"samples\": [\n          0.10503185714285714,\n          0.1022165,\n          14.0\n        ],\n        \"semantic_type\": \"\",\n        \"description\": \"\"\n      }\n    },\n    {\n      \"column\": \"Unemployment\",\n      \"properties\": {\n        \"dtype\": \"number\",\n        \"std\": 4.938001825947845,\n        \"min\": 0.005974359131569429,\n        \"max\": 14.0,\n        \"num_unique_values\": 8,\n        \"samples\": [\n          0.03772857142857143,\n          0.0361,\n          14.0\n        ],\n        \"semantic_type\": \"\",\n        \"description\": \"\"\n      }\n    },\n    {\n      \"column\": \"GDP\",\n      \"properties\": {\n        \"dtype\": \"number\",\n        \"std\": 6.346002279339245,\n        \"min\": 0.015489436628193534,\n        \"max\": 18.0,\n        \"num_unique_values\": 8,\n        \"samples\": [\n          0.05671666666666667,\n          0.060950000000000004,\n          18.0\n        ],\n        \"semantic_type\": \"\",\n        \"description\": \"\"\n      }\n    },\n    {\n      \"column\": \"NPL\",\n      \"properties\": {\n        \"dtype\": \"number\",\n        \"std\": 4.939270668022565,\n        \"min\": 0.005,\n        \"max\": 14.0,\n        \"num_unique_values\": 8,\n        \"samples\": [\n          0.029685714285714287,\n          0.0239,\n          14.0\n        ],\n        \"semantic_type\": \"\",\n        \"description\": \"\"\n      }\n    }\n  ]\n}"
            }
          },
          "metadata": {},
          "execution_count": 5
        }
      ]
    },
    {
      "cell_type": "code",
      "source": [
        "df1 = df[['Inflation','Lending_Interest_Rate','Unemployment','GDP']]"
      ],
      "metadata": {
        "id": "-uizQ_wKHkH0"
      },
      "execution_count": 6,
      "outputs": []
    },
    {
      "cell_type": "code",
      "source": [
        "import matplotlib.pyplot as plt\n",
        "import seaborn as sns\n",
        "import numpy as np\n"
      ],
      "metadata": {
        "id": "vCNVGzSSH6xj"
      },
      "execution_count": 7,
      "outputs": []
    },
    {
      "cell_type": "code",
      "source": [
        "ax, bp = pd.DataFrame.boxplot(df1, return_type='both')\n",
        "outliers = [flier.get_ydata() for flier in bp[\"fliers\"]]\n",
        "boxes = [box.get_ydata() for box in bp[\"boxes\"]]\n",
        "medians = [median.get_ydata() for median in bp[\"medians\"]]\n",
        "whiskers = [whisker.get_ydata() for whisker in bp[\"whiskers\"]]\n",
        "\n",
        "# Annotate the outliers on the plot\n",
        "pad = 0.2\n",
        "for i in range(4):\n",
        "    for j in range(len(outliers[i])):  # Loop through each outlier\n",
        "        ax.text(i + 1, outliers[i][j], \"{:.4f}\".format(outliers[i][j]), color='blue')\n",
        "\n",
        "pad = 0.2\n",
        "for i in range(len(boxes)):  # Loop through each box plot category\n",
        "    ax.text(i + 1 + pad, boxes[i][1], \"{:.4f}\".format(boxes[i][1]), color='green')  # Lower quartile (25%)\n",
        "    ax.text(i + 1 + pad, boxes[i][2], \"{:.4f}\".format(boxes[i][2]), color='green')  # Upper quartile (75%)\n",
        "\n",
        "# Annotate the medians on the plot\n",
        "for i in range(len(medians)):  # Loop through each box plot category\n",
        "    ax.text(i + 1, medians[i][0], \"{:.2f}\".format(medians[i][0]), color='red', fontweight='bold')\n",
        "\n",
        "# Annotate the whiskers (min and max values) on the plot\n",
        "for i in range(len(whiskers) // 2):  # There are 2 whiskers per category, so loop in pairs\n",
        "    ax.text(i + 1, whiskers[i * 2][1], \"{:.2f}\".format(whiskers[i * 2][1]), color='purple')  # Lower whisker\n",
        "    ax.text(i + 1, whiskers[i * 2 + 1][1], \"{:.2f}\".format(whiskers[i * 2 + 1][1]), color='purple')  # Upper whisker\n",
        "\n",
        "# Display the plot\n",
        "plt.title(\"Boxplot with Annotations\")\n",
        "plt.show()"
      ],
      "metadata": {
        "colab": {
          "base_uri": "https://localhost:8080/",
          "height": 452
        },
        "id": "lIlKOAwfIPPI",
        "outputId": "bea96f5f-2f09-45a7-80dd-c2a2a070387a"
      },
      "execution_count": 8,
      "outputs": [
        {
          "output_type": "display_data",
          "data": {
            "text/plain": [
              "<Figure size 640x480 with 1 Axes>"
            ],
            "image/png": "[encoded data removed]"
          },
          "metadata": {}
        }
      ]
    },
    {
      "cell_type": "markdown",
      "source": [
        "So base on this we can check data value to see if there are any significant outliner. Basically, instead of 2 variable of inflation that present outlner, the rest of data has normal distribution"
      ],
      "metadata": {
        "id": "UVh2eLrfQkL3"
      }
    },
    {
      "cell_type": "code",
      "source": [
        "df1.quantile([0.01,0.25,0.5,0.75,0.99])"
      ],
      "metadata": {
        "colab": {
          "base_uri": "https://localhost:8080/",
          "height": 206
        },
        "id": "zJRmsAfnp5sh",
        "outputId": "97f12483-4d05-45b3-a9e1-b9afc7ba6a2c"
      },
      "execution_count": 9,
      "outputs": [
        {
          "output_type": "execute_result",
          "data": {
            "text/plain": [
              "      Inflation  Lending_Interest_Rate  Unemployment       GDP\n",
              "0.01   0.008960               0.069822      0.030926  0.027354\n",
              "0.25   0.035251               0.074558      0.032525  0.047750\n",
              "0.50   0.066553               0.102217      0.036100  0.060950\n",
              "0.75   0.089071               0.126468      0.043125  0.067775\n",
              "0.99   0.225385               0.168017      0.046487  0.079889"
            ],
            "text/html": [
              "\n",
              "  <div id=\"df-4d56015d-376d-4fe2-b51b-4edbb3d0a568\" class=\"colab-df-container\">\n",
              "    <div>\n",
              "<style scoped>\n",
              "    .dataframe tbody tr th:only-of-type {\n",
              "        vertical-align: middle;\n",
              "    }\n",
              "\n",
              "    .dataframe tbody tr th {\n",
              "        vertical-align: top;\n",
              "    }\n",
              "\n",
              "    .dataframe thead th {\n",
              "        text-align: right;\n",
              "    }\n",
              "</style>\n",
              "<table border=\"1\" class=\"dataframe\">\n",
              "  <thead>\n",
              "    <tr style=\"text-align: right;\">\n",
              "      <th></th>\n",
              "      <th>Inflation</th>\n",
              "      <th>Lending_Interest_Rate</th>\n",
              "      <th>Unemployment</th>\n",
              "      <th>GDP</th>\n",
              "    </tr>\n",
              "  </thead>\n",
              "  <tbody>\n",
              "    <tr>\n",
              "      <th>0.01</th>\n",
              "      <td>0.008960</td>\n",
              "      <td>0.069822</td>\n",
              "      <td>0.030926</td>\n",
              "      <td>0.027354</td>\n",
              "    </tr>\n",
              "    <tr>\n",
              "      <th>0.25</th>\n",
              "      <td>0.035251</td>\n",
              "      <td>0.074558</td>\n",
              "      <td>0.032525</td>\n",
              "      <td>0.047750</td>\n",
              "    </tr>\n",
              "    <tr>\n",
              "      <th>0.50</th>\n",
              "      <td>0.066553</td>\n",
              "      <td>0.102217</td>\n",
              "      <td>0.036100</td>\n",
              "      <td>0.060950</td>\n",
              "    </tr>\n",
              "    <tr>\n",
              "      <th>0.75</th>\n",
              "      <td>0.089071</td>\n",
              "      <td>0.126468</td>\n",
              "      <td>0.043125</td>\n",
              "      <td>0.067775</td>\n",
              "    </tr>\n",
              "    <tr>\n",
              "      <th>0.99</th>\n",
              "      <td>0.225385</td>\n",
              "      <td>0.168017</td>\n",
              "      <td>0.046487</td>\n",
              "      <td>0.079889</td>\n",
              "    </tr>\n",
              "  </tbody>\n",
              "</table>\n",
              "</div>\n",
              "    <div class=\"colab-df-buttons\">\n",
              "\n",
              "  <div class=\"colab-df-container\">\n",
              "    <button class=\"colab-df-convert\" onclick=\"convertToInteractive('df-4d56015d-376d-4fe2-b51b-4edbb3d0a568')\"\n",
              "            title=\"Convert this dataframe to an interactive table.\"\n",
              "            style=\"display:none;\">\n",
              "\n",
              "  <svg xmlns=\"http://www.w3.org/2000/svg\" height=\"24px\" viewBox=\"0 -960 960 960\">\n",
              "    <path d=\"M120-120v-720h720v720H120Zm60-500h600v-160H180v160Zm220 220h160v-160H400v160Zm0 220h160v-160H400v160ZM180-400h160v-160H180v160Zm440 0h160v-160H620v160ZM180-180h160v-160H180v160Zm440 0h160v-160H620v160Z\"/>\n",
              "  </svg>\n",
              "    </button>\n",
              "\n",
              "  <style>\n",
              "    .colab-df-container {\n",
              "      display:flex;\n",
              "      gap: 12px;\n",
              "    }\n",
              "\n",
              "    .colab-df-convert {\n",
              "      background-color: #E8F0FE;\n",
              "      border: none;\n",
              "      border-radius: 50%;\n",
              "      cursor: pointer;\n",
              "      display: none;\n",
              "      fill: #1967D2;\n",
              "      height: 32px;\n",
              "      padding: 0 0 0 0;\n",
              "      width: 32px;\n",
              "    }\n",
              "\n",
              "    .colab-df-convert:hover {\n",
              "      background-color: #E2EBFA;\n",
              "      box-shadow: 0px 1px 2px rgba(60, 64, 67, 0.3), 0px 1px 3px 1px rgba(60, 64, 67, 0.15);\n",
              "      fill: #174EA6;\n",
              "    }\n",
              "\n",
              "    .colab-df-buttons div {\n",
              "      margin-bottom: 4px;\n",
              "    }\n",
              "\n",
              "    [theme=dark] .colab-df-convert {\n",
              "      background-color: #3B4455;\n",
              "      fill: #D2E3FC;\n",
              "    }\n",
              "\n",
              "    [theme=dark] .colab-df-convert:hover {\n",
              "      background-color: #434B5C;\n",
              "      box-shadow: 0px 1px 3px 1px rgba(0, 0, 0, 0.15);\n",
              "      filter: drop-shadow(0px 1px 2px rgba(0, 0, 0, 0.3));\n",
              "      fill: #FFFFFF;\n",
              "    }\n",
              "  </style>\n",
              "\n",
              "    <script>\n",
              "      const buttonEl =\n",
              "        document.querySelector('#df-4d56015d-376d-4fe2-b51b-4edbb3d0a568 button.colab-df-convert');\n",
              "      buttonEl.style.display =\n",
              "        google.colab.kernel.accessAllowed ? 'block' : 'none';\n",
              "\n",
              "      async function convertToInteractive(key) {\n",
              "        const element = document.querySelector('#df-4d56015d-376d-4fe2-b51b-4edbb3d0a568');\n",
              "        const dataTable =\n",
              "          await google.colab.kernel.invokeFunction('convertToInteractive',\n",
              "                                                    [key], {});\n",
              "        if (!dataTable) return;\n",
              "\n",
              "        const docLinkHtml = 'Like what you see? Visit the ' +\n",
              "          '<a target=\"_blank\" href=https://colab.research.google.com/notebooks/data_table.ipynb>data table notebook</a>'\n",
              "          + ' to learn more about interactive tables.';\n",
              "        element.innerHTML = '';\n",
              "        dataTable['output_type'] = 'display_data';\n",
              "        await google.colab.output.renderOutput(dataTable, element);\n",
              "        const docLink = document.createElement('div');\n",
              "        docLink.innerHTML = docLinkHtml;\n",
              "        element.appendChild(docLink);\n",
              "      }\n",
              "    </script>\n",
              "  </div>\n",
              "\n",
              "\n",
              "<div id=\"df-dc9d9f21-e542-493b-a899-23dc945b67b4\">\n",
              "  <button class=\"colab-df-quickchart\" onclick=\"quickchart('df-dc9d9f21-e542-493b-a899-23dc945b67b4')\"\n",
              "            title=\"Suggest charts\"\n",
              "            style=\"display:none;\">\n",
              "\n",
              "<svg xmlns=\"http://www.w3.org/2000/svg\" height=\"24px\"viewBox=\"0 0 24 24\"\n",
              "     width=\"24px\">\n",
              "    <g>\n",
              "        <path d=\"M19 3H5c-1.1 0-2 .9-2 2v14c0 1.1.9 2 2 2h14c1.1 0 2-.9 2-2V5c0-1.1-.9-2-2-2zM9 17H7v-7h2v7zm4 0h-2V7h2v10zm4 0h-2v-4h2v4z\"/>\n",
              "    </g>\n",
              "</svg>\n",
              "  </button>\n",
              "\n",
              "<style>\n",
              "  .colab-df-quickchart {\n",
              "      --bg-color: #E8F0FE;\n",
              "      --fill-color: #1967D2;\n",
              "      --hover-bg-color: #E2EBFA;\n",
              "      --hover-fill-color: #174EA6;\n",
              "      --disabled-fill-color: #AAA;\n",
              "      --disabled-bg-color: #DDD;\n",
              "  }\n",
              "\n",
              "  [theme=dark] .colab-df-quickchart {\n",
              "      --bg-color: #3B4455;\n",
              "      --fill-color: #D2E3FC;\n",
              "      --hover-bg-color: #434B5C;\n",
              "      --hover-fill-color: #FFFFFF;\n",
              "      --disabled-bg-color: #3B4455;\n",
              "      --disabled-fill-color: #666;\n",
              "  }\n",
              "\n",
              "  .colab-df-quickchart {\n",
              "    background-color: var(--bg-color);\n",
              "    border: none;\n",
              "    border-radius: 50%;\n",
              "    cursor: pointer;\n",
              "    display: none;\n",
              "    fill: var(--fill-color);\n",
              "    height: 32px;\n",
              "    padding: 0;\n",
              "    width: 32px;\n",
              "  }\n",
              "\n",
              "  .colab-df-quickchart:hover {\n",
              "    background-color: var(--hover-bg-color);\n",
              "    box-shadow: 0 1px 2px rgba(60, 64, 67, 0.3), 0 1px 3px 1px rgba(60, 64, 67, 0.15);\n",
              "    fill: var(--button-hover-fill-color);\n",
              "  }\n",
              "\n",
              "  .colab-df-quickchart-complete:disabled,\n",
              "  .colab-df-quickchart-complete:disabled:hover {\n",
              "    background-color: var(--disabled-bg-color);\n",
              "    fill: var(--disabled-fill-color);\n",
              "    box-shadow: none;\n",
              "  }\n",
              "\n",
              "  .colab-df-spinner {\n",
              "    border: 2px solid var(--fill-color);\n",
              "    border-color: transparent;\n",
              "    border-bottom-color: var(--fill-color);\n",
              "    animation:\n",
              "      spin 1s steps(1) infinite;\n",
              "  }\n",
              "\n",
              "  @keyframes spin {\n",
              "    0% {\n",
              "      border-color: transparent;\n",
              "      border-bottom-color: var(--fill-color);\n",
              "      border-left-color: var(--fill-color);\n",
              "    }\n",
              "    20% {\n",
              "      border-color: transparent;\n",
              "      border-left-color: var(--fill-color);\n",
              "      border-top-color: var(--fill-color);\n",
              "    }\n",
              "    30% {\n",
              "      border-color: transparent;\n",
              "      border-left-color: var(--fill-color);\n",
              "      border-top-color: var(--fill-color);\n",
              "      border-right-color: var(--fill-color);\n",
              "    }\n",
              "    40% {\n",
              "      border-color: transparent;\n",
              "      border-right-color: var(--fill-color);\n",
              "      border-top-color: var(--fill-color);\n",
              "    }\n",
              "    60% {\n",
              "      border-color: transparent;\n",
              "      border-right-color: var(--fill-color);\n",
              "    }\n",
              "    80% {\n",
              "      border-color: transparent;\n",
              "      border-right-color: var(--fill-color);\n",
              "      border-bottom-color: var(--fill-color);\n",
              "    }\n",
              "    90% {\n",
              "      border-color: transparent;\n",
              "      border-bottom-color: var(--fill-color);\n",
              "    }\n",
              "  }\n",
              "</style>\n",
              "\n",
              "  <script>\n",
              "    async function quickchart(key) {\n",
              "      const quickchartButtonEl =\n",
              "        document.querySelector('#' + key + ' button');\n",
              "      quickchartButtonEl.disabled = true;  // To prevent multiple clicks.\n",
              "      quickchartButtonEl.classList.add('colab-df-spinner');\n",
              "      try {\n",
              "        const charts = await google.colab.kernel.invokeFunction(\n",
              "            'suggestCharts', [key], {});\n",
              "      } catch (error) {\n",
              "        console.error('Error during call to suggestCharts:', error);\n",
              "      }\n",
              "      quickchartButtonEl.classList.remove('colab-df-spinner');\n",
              "      quickchartButtonEl.classList.add('colab-df-quickchart-complete');\n",
              "    }\n",
              "    (() => {\n",
              "      let quickchartButtonEl =\n",
              "        document.querySelector('#df-dc9d9f21-e542-493b-a899-23dc945b67b4 button');\n",
              "      quickchartButtonEl.style.display =\n",
              "        google.colab.kernel.accessAllowed ? 'block' : 'none';\n",
              "    })();\n",
              "  </script>\n",
              "</div>\n",
              "\n",
              "    </div>\n",
              "  </div>\n"
            ],
            "application/vnd.google.colaboratory.intrinsic+json": {
              "type": "dataframe",
              "summary": "{\n  \"name\": \"df1\",\n  \"rows\": 5,\n  \"fields\": [\n    {\n      \"column\": \"Inflation\",\n      \"properties\": {\n        \"dtype\": \"number\",\n        \"std\": 0.0841454478578067,\n        \"min\": 0.0089601,\n        \"max\": 0.22538498999999995,\n        \"num_unique_values\": 5,\n        \"samples\": [\n          0.03525125,\n          0.22538498999999995,\n          0.0665525\n        ],\n        \"semantic_type\": \"\",\n        \"description\": \"\"\n      }\n    },\n    {\n      \"column\": \"Lending_Interest_Rate\",\n      \"properties\": {\n        \"dtype\": \"number\",\n        \"std\": 0.04047296991013545,\n        \"min\": 0.06982153,\n        \"max\": 0.16801674,\n        \"num_unique_values\": 5,\n        \"samples\": [\n          0.07455800000000001,\n          0.16801674,\n          0.1022165\n        ],\n        \"semantic_type\": \"\",\n        \"description\": \"\"\n      }\n    },\n    {\n      \"column\": \"Unemployment\",\n      \"properties\": {\n        \"dtype\": \"number\",\n        \"std\": 0.006741323705326722,\n        \"min\": 0.030926,\n        \"max\": 0.046487,\n        \"num_unique_values\": 5,\n        \"samples\": [\n          0.032525,\n          0.046487,\n          0.0361\n        ],\n        \"semantic_type\": \"\",\n        \"description\": \"\"\n      }\n    },\n    {\n      \"column\": \"GDP\",\n      \"properties\": {\n        \"dtype\": \"number\",\n        \"std\": 0.02012292571421959,\n        \"min\": 0.027354,\n        \"max\": 0.07988899999999999,\n        \"num_unique_values\": 5,\n        \"samples\": [\n          0.04775,\n          0.07988899999999999,\n          0.060950000000000004\n        ],\n        \"semantic_type\": \"\",\n        \"description\": \"\"\n      }\n    }\n  ]\n}"
            }
          },
          "metadata": {},
          "execution_count": 9
        }
      ]
    },
    {
      "cell_type": "markdown",
      "source": [
        "# **Correlation check between independence variable**"
      ],
      "metadata": {
        "id": "qz206aRtqWE8"
      }
    },
    {
      "cell_type": "code",
      "source": [
        "df_corr = df[['Inflation', 'Lending_Interest_Rate', 'Unemployment', 'GDP','NPL']]\n",
        "print(\"-----------pearson result---------------\")\n",
        "print(df_corr.corr(method='pearson', min_periods=1))\n",
        "print(\"-----------kendall result---------------\")\n",
        "print(df_corr.corr(method='kendall'))\n",
        "print(\"------------spearman result--------------\")\n",
        "print(df_corr.corr(method='spearman'))"
      ],
      "metadata": {
        "colab": {
          "base_uri": "https://localhost:8080/"
        },
        "id": "1UTTM9dvqe-f",
        "outputId": "0358079a-5b67-4767-84b1-41cd2ae8f099"
      },
      "execution_count": 10,
      "outputs": [
        {
          "output_type": "stream",
          "name": "stdout",
          "text": [
            "-----------pearson result---------------\n",
            "                       Inflation  Lending_Interest_Rate  Unemployment  \\\n",
            "Inflation               1.000000               0.925695      0.422299   \n",
            "Lending_Interest_Rate   0.925695               1.000000      0.414612   \n",
            "Unemployment            0.422299               0.414612      1.000000   \n",
            "GDP                    -0.381281              -0.428401     -0.218992   \n",
            "NPL                     0.418171               0.442572      0.293610   \n",
            "\n",
            "                            GDP       NPL  \n",
            "Inflation             -0.381281  0.418171  \n",
            "Lending_Interest_Rate -0.428401  0.442572  \n",
            "Unemployment          -0.218992  0.293610  \n",
            "GDP                    1.000000 -0.984688  \n",
            "NPL                   -0.984688  1.000000  \n",
            "-----------kendall result---------------\n",
            "                       Inflation  Lending_Interest_Rate  Unemployment  \\\n",
            "Inflation               1.000000               0.846154      0.419896   \n",
            "Lending_Interest_Rate   0.846154               1.000000      0.353597   \n",
            "Unemployment            0.419896               0.353597      1.000000   \n",
            "GDP                    -0.274725              -0.208791     -0.353597   \n",
            "NPL                     0.252747               0.230769      0.331497   \n",
            "\n",
            "                            GDP       NPL  \n",
            "Inflation             -0.274725  0.252747  \n",
            "Lending_Interest_Rate -0.208791  0.230769  \n",
            "Unemployment          -0.353597  0.331497  \n",
            "GDP                    1.000000 -0.978022  \n",
            "NPL                   -0.978022  1.000000  \n",
            "------------spearman result--------------\n",
            "                       Inflation  Lending_Interest_Rate  Unemployment  \\\n",
            "Inflation               1.000000               0.956044      0.558856   \n",
            "Lending_Interest_Rate   0.956044               1.000000      0.517052   \n",
            "Unemployment            0.558856               0.517052      1.000000   \n",
            "GDP                    -0.353846              -0.331868     -0.330033   \n",
            "NPL                     0.345055               0.336264      0.321232   \n",
            "\n",
            "                            GDP       NPL  \n",
            "Inflation             -0.353846  0.345055  \n",
            "Lending_Interest_Rate -0.331868  0.336264  \n",
            "Unemployment          -0.330033  0.321232  \n",
            "GDP                    1.000000 -0.995604  \n",
            "NPL                   -0.995604  1.000000  \n"
          ]
        }
      ]
    },
    {
      "cell_type": "markdown",
      "source": [
        "Based on the result, we can see that:\n",
        "-  Both Inflation and Lending Interest Rate are strongly positively correlated across all methods.\n",
        "=> **therefore when using these 2 variable to build model we need to consider the multicolinear effect which impact to dependent Y but not show the related of X to Y**\n",
        "-  Inflation and Unemployment show moderate positive correlations, with Spearman slightly indicating a stronger association.\n",
        "- Inflation and GDP have weak negative correlations in all methods.\n",
        "- GDP and NPL have very strong inverse relationships, showing that as GDP increases, non-performing loans decrease sharply, consistent across all methods.\n",
        "=> Choose GDP for model due to it has highest corr effect"
      ],
      "metadata": {
        "id": "U7CY2yW8rfIX"
      }
    },
    {
      "cell_type": "markdown",
      "source": [
        "# **Model Build**"
      ],
      "metadata": {
        "id": "ZqcJpXv3q_1P"
      }
    },
    {
      "cell_type": "code",
      "source": [
        "from sklearn.model_selection import train_test_split\n",
        "from sklearn.linear_model import LinearRegression\n",
        "from sklearn.metrics import mean_squared_error, r2_score"
      ],
      "metadata": {
        "id": "S-vn0rzS2pk6"
      },
      "execution_count": 11,
      "outputs": []
    },
    {
      "cell_type": "code",
      "source": [
        "x_train = df[['GDP']][:14]\n",
        "y_train = df['NPL'][:14].values.reshape(-1, 1)"
      ],
      "metadata": {
        "id": "4flkjKAkrCxY"
      },
      "execution_count": 19,
      "outputs": []
    },
    {
      "cell_type": "code",
      "source": [
        "model = LinearRegression()\n",
        "model.fit(x_train, y_train)"
      ],
      "metadata": {
        "colab": {
          "base_uri": "https://localhost:8080/",
          "height": 74
        },
        "id": "BFDIyKjP3m4m",
        "outputId": "3be747ab-c35c-424a-cd4c-f5ad6ddc8f00"
      },
      "execution_count": 20,
      "outputs": [
        {
          "output_type": "execute_result",
          "data": {
            "text/plain": [
              "LinearRegression()"
            ],
            "text/html": [
              "<style>#sk-container-id-1 {color: black;}#sk-container-id-1 pre{padding: 0;}#sk-container-id-1 div.sk-toggleable {background-color: white;}#sk-container-id-1 label.sk-toggleable__label {cursor: pointer;display: block;width: 100%;margin-bottom: 0;padding: 0.3em;box-sizing: border-box;text-align: center;}#sk-container-id-1 label.sk-toggleable__label-arrow:before {content: \"▸\";float: left;margin-right: 0.25em;color: #696969;}#sk-container-id-1 label.sk-toggleable__label-arrow:hover:before {color: black;}#sk-container-id-1 div.sk-estimator:hover label.sk-toggleable__label-arrow:before {color: black;}#sk-container-id-1 div.sk-toggleable__content {max-height: 0;max-width: 0;overflow: hidden;text-align: left;background-color: #f0f8ff;}#sk-container-id-1 div.sk-toggleable__content pre {margin: 0.2em;color: black;border-radius: 0.25em;background-color: #f0f8ff;}#sk-container-id-1 input.sk-toggleable__control:checked~div.sk-toggleable__content {max-height: 200px;max-width: 100%;overflow: auto;}#sk-container-id-1 input.sk-toggleable__control:checked~label.sk-toggleable__label-arrow:before {content: \"▾\";}#sk-container-id-1 div.sk-estimator input.sk-toggleable__control:checked~label.sk-toggleable__label {background-color: #d4ebff;}#sk-container-id-1 div.sk-label input.sk-toggleable__control:checked~label.sk-toggleable__label {background-color: #d4ebff;}#sk-container-id-1 input.sk-hidden--visually {border: 0;clip: rect(1px 1px 1px 1px);clip: rect(1px, 1px, 1px, 1px);height: 1px;margin: -1px;overflow: hidden;padding: 0;position: absolute;width: 1px;}#sk-container-id-1 div.sk-estimator {font-family: monospace;background-color: #f0f8ff;border: 1px dotted black;border-radius: 0.25em;box-sizing: border-box;margin-bottom: 0.5em;}#sk-container-id-1 div.sk-estimator:hover {background-color: #d4ebff;}#sk-container-id-1 div.sk-parallel-item::after {content: \"\";width: 100%;border-bottom: 1px solid gray;flex-grow: 1;}#sk-container-id-1 div.sk-label:hover label.sk-toggleable__label {background-color: #d4ebff;}#sk-container-id-1 div.sk-serial::before {content: \"\";position: absolute;border-left: 1px solid gray;box-sizing: border-box;top: 0;bottom: 0;left: 50%;z-index: 0;}#sk-container-id-1 div.sk-serial {display: flex;flex-direction: column;align-items: center;background-color: white;padding-right: 0.2em;padding-left: 0.2em;position: relative;}#sk-container-id-1 div.sk-item {position: relative;z-index: 1;}#sk-container-id-1 div.sk-parallel {display: flex;align-items: stretch;justify-content: center;background-color: white;position: relative;}#sk-container-id-1 div.sk-item::before, #sk-container-id-1 div.sk-parallel-item::before {content: \"\";position: absolute;border-left: 1px solid gray;box-sizing: border-box;top: 0;bottom: 0;left: 50%;z-index: -1;}#sk-container-id-1 div.sk-parallel-item {display: flex;flex-direction: column;z-index: 1;position: relative;background-color: white;}#sk-container-id-1 div.sk-parallel-item:first-child::after {align-self: flex-end;width: 50%;}#sk-container-id-1 div.sk-parallel-item:last-child::after {align-self: flex-start;width: 50%;}#sk-container-id-1 div.sk-parallel-item:only-child::after {width: 0;}#sk-container-id-1 div.sk-dashed-wrapped {border: 1px dashed gray;margin: 0 0.4em 0.5em 0.4em;box-sizing: border-box;padding-bottom: 0.4em;background-color: white;}#sk-container-id-1 div.sk-label label {font-family: monospace;font-weight: bold;display: inline-block;line-height: 1.2em;}#sk-container-id-1 div.sk-label-container {text-align: center;}#sk-container-id-1 div.sk-container {/* jupyter's `normalize.less` sets `[hidden] { display: none; }` but bootstrap.min.css set `[hidden] { display: none !important; }` so we also need the `!important` here to be able to override the default hidden behavior on the sphinx rendered scikit-learn.org. See: https://github.com/scikit-learn/scikit-learn/issues/21755 */display: inline-block !important;position: relative;}#sk-container-id-1 div.sk-text-repr-fallback {display: none;}</style><div id=\"sk-container-id-1\" class=\"sk-top-container\"><div class=\"sk-text-repr-fallback\"><pre>LinearRegression()</pre><b>In a Jupyter environment, please rerun this cell to show the HTML representation or trust the notebook. <br />On GitHub, the HTML representation is unable to render, please try loading this page with nbviewer.org.</b></div><div class=\"sk-container\" hidden><div class=\"sk-item\"><div class=\"sk-estimator sk-toggleable\"><input class=\"sk-toggleable__control sk-hidden--visually\" id=\"sk-estimator-id-1\" type=\"checkbox\" checked><label for=\"sk-estimator-id-1\" class=\"sk-toggleable__label sk-toggleable__label-arrow\">LinearRegression</label><div class=\"sk-toggleable__content\"><pre>LinearRegression()</pre></div></div></div></div></div>"
            ]
          },
          "metadata": {},
          "execution_count": 20
        }
      ]
    },
    {
      "cell_type": "markdown",
      "source": [
        "Predict NPL in the next for year"
      ],
      "metadata": {
        "id": "bC4Tir6e4QPK"
      }
    },
    {
      "cell_type": "code",
      "source": [
        "X_Test = df['GDP'][-4:].values.reshape(-1, 1)\n",
        "Y_Pred = model.predict(X_Test)"
      ],
      "metadata": {
        "colab": {
          "base_uri": "https://localhost:8080/"
        },
        "id": "1C_-5uDy4LVd",
        "outputId": "e6d9dc9b-8551-4a81-e587-b5bf1c53086f"
      },
      "execution_count": 22,
      "outputs": [
        {
          "output_type": "stream",
          "name": "stderr",
          "text": [
            "/usr/local/lib/python3.10/dist-packages/sklearn/base.py:465: UserWarning: X does not have valid feature names, but LinearRegression was fitted with feature names\n",
            "  warnings.warn(\n"
          ]
        }
      ]
    },
    {
      "cell_type": "code",
      "source": [
        "print('GDP predict in the next 4 year: \\n', X_Test)"
      ],
      "metadata": {
        "colab": {
          "base_uri": "https://localhost:8080/"
        },
        "id": "fH683u5N5o8F",
        "outputId": "c4278b4e-6fbe-4fdc-c9e7-9b8d73ad5086"
      },
      "execution_count": 27,
      "outputs": [
        {
          "output_type": "stream",
          "name": "stdout",
          "text": [
            "GDP predict in the next 4 year: \n",
            " [[0.0263]\n",
            " [0.0336]\n",
            " [0.0396]\n",
            " [0.0586]]\n"
          ]
        }
      ]
    },
    {
      "cell_type": "code",
      "source": [
        "print('Predict NPL base on GDP: \\n', Y_Pred)\n"
      ],
      "metadata": {
        "colab": {
          "base_uri": "https://localhost:8080/"
        },
        "id": "OE4GjtL35CqC",
        "outputId": "9128cb71-83ff-43ab-de86-980e6aa88b11"
      },
      "execution_count": 24,
      "outputs": [
        {
          "output_type": "stream",
          "name": "stdout",
          "text": [
            "Predict NPL base on GDP: \n",
            " [[0.08225604]\n",
            " [0.07139335]\n",
            " [0.06246511]\n",
            " [0.03419235]]\n"
          ]
        }
      ]
    },
    {
      "cell_type": "code",
      "source": [
        "import statsmodels.api as sm"
      ],
      "metadata": {
        "id": "vza3Atpf5dEV"
      },
      "execution_count": 25,
      "outputs": []
    },
    {
      "cell_type": "code",
      "source": [
        "x_train = sm.add_constant(x_train)\n",
        "model = sm.OLS(y_train, x_train , alpha=0.05).fit()\n",
        "print_model = model.summary()\n",
        "print(print_model)"
      ],
      "metadata": {
        "colab": {
          "base_uri": "https://localhost:8080/"
        },
        "id": "wshtZoCl5Pez",
        "outputId": "d3cc9dab-9ef6-4736-e304-2aba72f4f3f6"
      },
      "execution_count": 26,
      "outputs": [
        {
          "output_type": "stream",
          "name": "stdout",
          "text": [
            "                            OLS Regression Results                            \n",
            "==============================================================================\n",
            "Dep. Variable:                      y   R-squared:                       0.970\n",
            "Model:                            OLS   Adj. R-squared:                  0.967\n",
            "Method:                 Least Squares   F-statistic:                     382.9\n",
            "Date:                Sat, 14 Sep 2024   Prob (F-statistic):           1.80e-10\n",
            "Time:                        18:58:01   Log-Likelihood:                 60.839\n",
            "No. Observations:                  14   AIC:                            -117.7\n",
            "Df Residuals:                      12   BIC:                            -116.4\n",
            "Df Model:                           1                                         \n",
            "Covariance Type:            nonrobust                                         \n",
            "==============================================================================\n",
            "                 coef    std err          t      P>|t|      [0.025      0.975]\n",
            "------------------------------------------------------------------------------\n",
            "const          0.1214      0.005     25.431      0.000       0.111       0.132\n",
            "GDP           -1.4880      0.076    -19.567      0.000      -1.654      -1.322\n",
            "==============================================================================\n",
            "Omnibus:                        0.901   Durbin-Watson:                   1.906\n",
            "Prob(Omnibus):                  0.637   Jarque-Bera (JB):                0.459\n",
            "Skew:                           0.428   Prob(JB):                        0.795\n",
            "Kurtosis:                       2.767   Cond. No.                         84.3\n",
            "==============================================================================\n",
            "\n",
            "Notes:\n",
            "[1] Standard Errors assume that the covariance matrix of the errors is correctly specified.\n"
          ]
        },
        {
          "output_type": "stream",
          "name": "stderr",
          "text": [
            "/usr/local/lib/python3.10/dist-packages/statsmodels/base/model.py:130: ValueWarning: unknown kwargs ['alpha']\n",
            "  warnings.warn(msg, ValueWarning)\n",
            "/usr/local/lib/python3.10/dist-packages/scipy/stats/_axis_nan_policy.py:531: UserWarning: kurtosistest only valid for n>=20 ... continuing anyway, n=14\n",
            "  res = hypotest_fun_out(*samples, **kwds)\n"
          ]
        }
      ]
    },
    {
      "cell_type": "markdown",
      "source": [
        "R-square in this model obtain 0.97 which mean it has statistic meaning"
      ],
      "metadata": {
        "id": "GsAdCcAL6Kt3"
      }
    }
  ]
}